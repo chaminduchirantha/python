{
 "cells": [
  {
   "cell_type": "code",
   "execution_count": 2,
   "id": "88a29dfa",
   "metadata": {},
   "outputs": [
    {
     "name": "stdout",
     "output_type": "stream",
     "text": [
      "hello world\n"
     ]
    }
   ],
   "source": [
    "print(\"hello world\")"
   ]
  },
  {
   "cell_type": "code",
   "execution_count": 3,
   "id": "50c1e7d5",
   "metadata": {},
   "outputs": [
    {
     "name": "stdout",
     "output_type": "stream",
     "text": [
      "3\n"
     ]
    }
   ],
   "source": [
    "a = 1\n",
    "b = 2\n",
    "c = a + b\n",
    "\n",
    "print(c)"
   ]
  },
  {
   "cell_type": "code",
   "execution_count": 4,
   "id": "d54f8184",
   "metadata": {},
   "outputs": [
    {
     "name": "stdout",
     "output_type": "stream",
     "text": [
      "<class 'int'>\n",
      "3\n"
     ]
    }
   ],
   "source": [
    "my_var = 3\n",
    "print(type(my_var))\n",
    "print(my_var)"
   ]
  },
  {
   "cell_type": "code",
   "execution_count": 5,
   "id": "2166c3ff",
   "metadata": {},
   "outputs": [
    {
     "ename": "SyntaxError",
     "evalue": "invalid decimal literal (1396056457.py, line 1)",
     "output_type": "error",
     "traceback": [
      "  \u001b[36mCell\u001b[39m\u001b[36m \u001b[39m\u001b[32mIn[5]\u001b[39m\u001b[32m, line 1\u001b[39m\n\u001b[31m    \u001b[39m\u001b[31m2my_var = 20\u001b[39m\n    ^\n\u001b[31mSyntaxError\u001b[39m\u001b[31m:\u001b[39m invalid decimal literal\n"
     ]
    }
   ],
   "source": [
    "2my_var = 20\n",
    "print(2my_var)"
   ]
  },
  {
   "cell_type": "code",
   "execution_count": null,
   "id": "657b2d9f",
   "metadata": {},
   "outputs": [
    {
     "ename": "SyntaxError",
     "evalue": "cannot assign to expression here. Maybe you meant '==' instead of '='? (1841892965.py, line 1)",
     "output_type": "error",
     "traceback": [
      "  \u001b[36mCell\u001b[39m\u001b[36m \u001b[39m\u001b[32mIn[15]\u001b[39m\u001b[32m, line 1\u001b[39m\n\u001b[31m    \u001b[39m\u001b[31mmy@var = 2\u001b[39m\n    ^\n\u001b[31mSyntaxError\u001b[39m\u001b[31m:\u001b[39m cannot assign to expression here. Maybe you meant '==' instead of '='?\n"
     ]
    }
   ],
   "source": [
    "my@var = 2\n",
    "print(my@var)"
   ]
  },
  {
   "cell_type": "code",
   "execution_count": null,
   "id": "2bfb14a1",
   "metadata": {},
   "outputs": [
    {
     "name": "stdout",
     "output_type": "stream",
     "text": [
      "3\n"
     ]
    }
   ],
   "source": [
    "my2var = 3\n",
    "print(my2var1)"
   ]
  },
  {
   "cell_type": "code",
   "execution_count": null,
   "id": "d6a307cf",
   "metadata": {},
   "outputs": [
    {
     "name": "stdout",
     "output_type": "stream",
     "text": [
      "(10+12j)\n",
      "<class 'complex'>\n"
     ]
    }
   ],
   "source": [
    "my_var = 10 + 12j\n",
    "print(my_var)\n",
    "print(type(my_var))\n"
   ]
  },
  {
   "cell_type": "code",
   "execution_count": null,
   "id": "c4372f99",
   "metadata": {},
   "outputs": [
    {
     "name": "stdout",
     "output_type": "stream",
     "text": [
      "4958000000.0\n",
      "<class 'float'>\n"
     ]
    }
   ],
   "source": [
    "my_num = 4.958e9\n",
    "print(my_num)\n",
    "print(type(my_num))"
   ]
  },
  {
   "cell_type": "code",
   "execution_count": null,
   "id": "65096455",
   "metadata": {},
   "outputs": [
    {
     "name": "stdout",
     "output_type": "stream",
     "text": [
      "10\n",
      "10.0\n",
      "<class 'float'>\n"
     ]
    }
   ],
   "source": [
    "a = 10\n",
    "b = float(a)\n",
    "print(a)\n",
    "print(b)\n",
    "print(type(b))"
   ]
  },
  {
   "cell_type": "code",
   "execution_count": null,
   "id": "aa87831a",
   "metadata": {},
   "outputs": [
    {
     "name": "stdout",
     "output_type": "stream",
     "text": [
      "7\n",
      "<class 'int'>\n"
     ]
    }
   ],
   "source": [
    "a = 7.3\n",
    "b = int(a)\n",
    "print(b)\n",
    "print(type(b))"
   ]
  },
  {
   "cell_type": "code",
   "execution_count": null,
   "id": "b6e1edf7",
   "metadata": {},
   "outputs": [
    {
     "ename": "SyntaxError",
     "evalue": "invalid syntax (2968236334.py, line 1)",
     "output_type": "error",
     "traceback": [
      "  \u001b[36mCell\u001b[39m\u001b[36m \u001b[39m\u001b[32mIn[17]\u001b[39m\u001b[32m, line 1\u001b[39m\n\u001b[31m    \u001b[39m\u001b[31mif = 2\u001b[39m\n       ^\n\u001b[31mSyntaxError\u001b[39m\u001b[31m:\u001b[39m invalid syntax\n"
     ]
    }
   ],
   "source": [
    "if = 2\n",
    "print(if)"
   ]
  },
  {
   "cell_type": "code",
   "execution_count": null,
   "id": "78d12244",
   "metadata": {},
   "outputs": [
    {
     "name": "stdout",
     "output_type": "stream",
     "text": [
      "[10, 20, 30, 40]\n",
      "<class 'list'>\n",
      "30\n",
      "[10, 20, 50, 40]\n"
     ]
    }
   ],
   "source": [
    "my_list = [10,20,30,40]\n",
    "print(my_list)\n",
    "print(type(my_list))\n",
    "print(my_list[2])\n",
    "my_list[2] = 50\n",
    "print(my_list)"
   ]
  },
  {
   "cell_type": "code",
   "execution_count": null,
   "id": "e912a58f",
   "metadata": {},
   "outputs": [
    {
     "data": {
      "text/plain": [
       "11111"
      ]
     },
     "execution_count": 8,
     "metadata": {},
     "output_type": "execute_result"
    }
   ],
   "source": [
    "11111"
   ]
  },
  {
   "cell_type": "code",
   "execution_count": null,
   "id": "3ca5a80f",
   "metadata": {},
   "outputs": [
    {
     "name": "stdout",
     "output_type": "stream",
     "text": [
      "140712289793064\n",
      "140712289793224\n"
     ]
    }
   ],
   "source": [
    "x = 5\n",
    "print(id(x))\n",
    "\n",
    "x = 10\n",
    "print(id(x))"
   ]
  },
  {
   "cell_type": "code",
   "execution_count": null,
   "id": "fc74ba05",
   "metadata": {},
   "outputs": [
    {
     "name": "stdout",
     "output_type": "stream",
     "text": [
      "[10, 30, 40, 50, 60]\n",
      "1698828055872\n",
      "[10, 30, 20, 50, 60]\n",
      "1698828055872\n"
     ]
    }
   ],
   "source": [
    "my_list = [10,30,40,50,60]\n",
    "print(my_list)\n",
    "print(id(my_list))\n",
    "\n",
    "my_list[2] = 20\n",
    "print(my_list)\n",
    "print(id(my_list))"
   ]
  },
  {
   "cell_type": "code",
   "execution_count": null,
   "id": "b659c129",
   "metadata": {},
   "outputs": [
    {
     "name": "stdout",
     "output_type": "stream",
     "text": [
      "[True, 'cat', 19, 20]\n"
     ]
    }
   ],
   "source": [
    "my_list = [True , \"cat\" , 19 , 20]\n",
    "print(my_list)"
   ]
  },
  {
   "cell_type": "code",
   "execution_count": null,
   "id": "072d37ba",
   "metadata": {},
   "outputs": [
    {
     "name": "stdout",
     "output_type": "stream",
     "text": [
      "4\n"
     ]
    }
   ],
   "source": [
    "print(len(my_list))"
   ]
  },
  {
   "cell_type": "code",
   "execution_count": null,
   "id": "9b05083e",
   "metadata": {},
   "outputs": [
    {
     "name": "stdout",
     "output_type": "stream",
     "text": [
      "[40, 50, 60]\n"
     ]
    }
   ],
   "source": [
    "my_list = [10,30,40,50,60,70,200,40]\n",
    "print(my_list[2:5])"
   ]
  },
  {
   "cell_type": "code",
   "execution_count": null,
   "id": "b7a9fd9c",
   "metadata": {},
   "outputs": [
    {
     "name": "stdout",
     "output_type": "stream",
     "text": [
      "[40, 50, 60, 70, 200, 40]\n"
     ]
    }
   ],
   "source": [
    "my_list = [10,30,40,50,60,70,200,40]\n",
    "print(my_list[2:])"
   ]
  },
  {
   "cell_type": "code",
   "execution_count": null,
   "id": "0765b46b",
   "metadata": {},
   "outputs": [
    {
     "name": "stdout",
     "output_type": "stream",
     "text": [
      "[10, 30, 40, 50, 60]\n"
     ]
    }
   ],
   "source": [
    "my_list = [10,30,40,50,60,70,200,40]\n",
    "print(my_list[:5])"
   ]
  },
  {
   "cell_type": "code",
   "execution_count": null,
   "id": "a36460a6",
   "metadata": {},
   "outputs": [
    {
     "name": "stdout",
     "output_type": "stream",
     "text": [
      "[60, 70, 200]\n"
     ]
    }
   ],
   "source": [
    "print(my_list[-4:-1])"
   ]
  },
  {
   "cell_type": "code",
   "execution_count": null,
   "id": "02a174ce",
   "metadata": {},
   "outputs": [
    {
     "name": "stdout",
     "output_type": "stream",
     "text": [
      "[10, 8, 90, 60, 50, 6, 9, 20]\n"
     ]
    }
   ],
   "source": [
    "my_list = [10 , 8 , 9 ,5 , 4 , 6 , 9 , 20]\n",
    "my_list[2 : 5] = [90 , 60 , 50]\n",
    "print(my_list)"
   ]
  },
  {
   "cell_type": "code",
   "execution_count": null,
   "id": "0f3ee239",
   "metadata": {},
   "outputs": [
    {
     "name": "stdout",
     "output_type": "stream",
     "text": [
      "[10, 8, 40, 9, 5, 4, 6, 9, 20]\n"
     ]
    }
   ],
   "source": [
    "my_list = [10 , 8 , 9 ,5 , 4 , 6 , 9 , 20]\n",
    "my_list.insert(2, 40)\n",
    "print(my_list)"
   ]
  },
  {
   "cell_type": "code",
   "execution_count": null,
   "id": "1f9acaa9",
   "metadata": {},
   "outputs": [
    {
     "name": "stdout",
     "output_type": "stream",
     "text": [
      "[40, 10, 8, 9, 5, 4, 6, 9, 20]\n"
     ]
    }
   ],
   "source": [
    "my_list = [10 , 8 , 9 ,5 , 4 , 6 , 9 , 20]\n",
    "my_list.insert(0, 40)\n",
    "print(my_list)"
   ]
  },
  {
   "cell_type": "code",
   "execution_count": null,
   "id": "7b8b6f6b",
   "metadata": {},
   "outputs": [
    {
     "name": "stdout",
     "output_type": "stream",
     "text": [
      "[10, 8, 40, 9, 5, 4, 6, 9, 20, 44]\n"
     ]
    }
   ],
   "source": [
    "my_list.append(44)\n",
    "print(my_list)"
   ]
  },
  {
   "cell_type": "code",
   "execution_count": null,
   "id": "a0fd41f0",
   "metadata": {},
   "outputs": [
    {
     "name": "stdout",
     "output_type": "stream",
     "text": [
      "[8, 9, 5, 4, 6, 9, 20, 44]\n"
     ]
    }
   ],
   "source": [
    "my_list.remove(40)\n",
    "print(my_list)"
   ]
  },
  {
   "cell_type": "code",
   "execution_count": null,
   "id": "54634af6",
   "metadata": {},
   "outputs": [
    {
     "name": "stdout",
     "output_type": "stream",
     "text": [
      "[8, 9, 5, 4, 6]\n",
      "44\n"
     ]
    }
   ],
   "source": [
    "my_var = my_list.pop(5)\n",
    "print(my_list)\n",
    "print(my_var)"
   ]
  },
  {
   "cell_type": "code",
   "execution_count": null,
   "id": "bbc34beb",
   "metadata": {},
   "outputs": [
    {
     "name": "stdout",
     "output_type": "stream",
     "text": [
      "[8, 9, 6]\n"
     ]
    }
   ],
   "source": [
    "del my_list[2]\n",
    "print(my_list)"
   ]
  },
  {
   "cell_type": "code",
   "execution_count": null,
   "id": "783a711d",
   "metadata": {},
   "outputs": [
    {
     "name": "stdout",
     "output_type": "stream",
     "text": [
      "[]\n"
     ]
    }
   ],
   "source": [
    "my_list = [40 , 50 ,6 ,7 , 8 , 9]\n",
    "my_list.clear()\n",
    "print(my_list)"
   ]
  },
  {
   "cell_type": "code",
   "execution_count": null,
   "id": "0d6e35a7",
   "metadata": {},
   "outputs": [
    {
     "name": "stdout",
     "output_type": "stream",
     "text": [
      "[6, 7, 8, 9, 40, 50]\n"
     ]
    }
   ],
   "source": [
    "my_list = [40 , 50 ,6 ,7 , 8 , 9]\n",
    "my_list.sort()\n",
    "print(my_list)"
   ]
  },
  {
   "cell_type": "code",
   "execution_count": null,
   "id": "f542cd9d",
   "metadata": {},
   "outputs": [
    {
     "name": "stdout",
     "output_type": "stream",
     "text": [
      "['32', 'Grasse', 'apple', 'rabbite', 'rat']\n"
     ]
    }
   ],
   "source": [
    "my_list = [\"apple\" , \"32\" , \"rat\" , \"Grasse\" , \"rabbite\"]\n",
    "my_list.sort()\n",
    "print(my_list)"
   ]
  },
  {
   "cell_type": "code",
   "execution_count": null,
   "id": "3c71139f",
   "metadata": {},
   "outputs": [
    {
     "name": "stdout",
     "output_type": "stream",
     "text": [
      "['rat', 'rabbite', 'apple', 'Grasse', '32']\n"
     ]
    }
   ],
   "source": [
    "my_list = [\"apple\" , \"32\" , \"rat\" , \"Grasse\" , \"rabbite\"]\n",
    "my_list.sort(reverse=True)\n",
    "print(my_list)"
   ]
  },
  {
   "cell_type": "code",
   "execution_count": null,
   "id": "f1cad962",
   "metadata": {},
   "outputs": [
    {
     "name": "stdout",
     "output_type": "stream",
     "text": [
      "['rabbite', 'Grasse', 'rat', '32', 'apple']\n"
     ]
    }
   ],
   "source": [
    "my_list = [\"apple\" , \"32\" , \"rat\" , \"Grasse\" , \"rabbite\"]\n",
    "my_list.reverse()\n",
    "print(my_list)"
   ]
  },
  {
   "cell_type": "code",
   "execution_count": null,
   "id": "ac63d7a1",
   "metadata": {},
   "outputs": [
    {
     "name": "stdout",
     "output_type": "stream",
     "text": [
      "['fish']\n",
      "['dog', 'cat', 'rabbit']\n"
     ]
    }
   ],
   "source": [
    "my_list = [\"dog\" , \"cat\" , \"rabbit\"]\n",
    "my_list_1 = my_list.copy()\n",
    "my_list = [\"fish\"]\n",
    "print(my_list)\n",
    "print(my_list_1)"
   ]
  },
  {
   "cell_type": "code",
   "execution_count": null,
   "id": "8863e383",
   "metadata": {},
   "outputs": [
    {
     "name": "stdout",
     "output_type": "stream",
     "text": [
      "[10, 20, 30, 40, 50, 12, 30, 49]\n"
     ]
    }
   ],
   "source": [
    "my_list1 = [10 , 20 , 30 , 40 , 50]\n",
    "my_list2 = [12,30, 49]\n",
    "my_list3 = my_list1 + my_list2\n",
    "print(my_list3)"
   ]
  },
  {
   "cell_type": "code",
   "execution_count": null,
   "id": "d687c221",
   "metadata": {},
   "outputs": [
    {
     "name": "stdout",
     "output_type": "stream",
     "text": [
      "[10, 20, 30, 40, 50, 12, 30, 49]\n"
     ]
    }
   ],
   "source": [
    "my_list1 = [10 , 20 , 30 , 40 , 50]\n",
    "my_list2 = [12,30, 49]\n",
    "my_list1.extend(my_list2)\n",
    "print(my_list1)\n"
   ]
  }
 ],
 "metadata": {
  "kernelspec": {
   "display_name": "Python 3",
   "language": "python",
   "name": "python3"
  },
  "language_info": {
   "codemirror_mode": {
    "name": "ipython",
    "version": 3
   },
   "file_extension": ".py",
   "mimetype": "text/x-python",
   "name": "python",
   "nbconvert_exporter": "python",
   "pygments_lexer": "ipython3",
   "version": "3.13.7"
  }
 },
 "nbformat": 4,
 "nbformat_minor": 5
}
